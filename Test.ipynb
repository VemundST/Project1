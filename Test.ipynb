{
 "cells": [
  {
   "cell_type": "code",
   "execution_count": 2,
   "metadata": {},
   "outputs": [],
   "source": [
    "from mpl_toolkits.mplot3d import Axes3D \n",
    "import matplotlib.pyplot as plt\n",
    "from matplotlib import cm \n",
    "from matplotlib.ticker import LinearLocator, FormatStrFormatter \n",
    "import numpy as np \n",
    "from random import random, seed\n",
    "import functions as fx\n",
    "import numpy as np\n",
    "\n",
    "\n",
    "import sklearn.model_selection as sklm\n",
    "from sklearn import linear_model\n",
    "from sklearn.model_selection import train_test_split\n",
    "from sklearn.model_selection import KFold\n",
    "from sklearn.linear_model import LinearRegression, Ridge, Lasso\n",
    "from sklearn.metrics import mean_squared_error, r2_score, mean_absolute_error\n",
    "from sklearn.pipeline import make_pipeline\n",
    "from sklearn.utils import resample\n",
    "from sklearn.preprocessing import PolynomialFeatures\n",
    "from sklearn.model_selection import cross_val_score\n",
    "import sklearn.linear_model as skl\n",
    "from sklearn.linear_model import Ridge\n",
    "\n"
   ]
  },
  {
   "cell_type": "code",
   "execution_count": 5,
   "metadata": {},
   "outputs": [],
   "source": [
    "\n",
    "n_x         = 50\n",
    "\n",
    "# Make data. \n",
    "x           = np.linspace(0, 1, n_x)\n",
    "y           = np.linspace(0, 1, n_x)\n",
    "\n",
    "\n",
    "x_mesh, y_mesh  = np.meshgrid(x,y)\n",
    "noise_level     = 0.25\n",
    "frank           = fx.FrankeFunction(x_mesh, y_mesh, noise_level)\n",
    "\n",
    "frank           = np.ravel(frank)\n"
   ]
  },
  {
   "cell_type": "code",
   "execution_count": 22,
   "metadata": {},
   "outputs": [
    {
     "name": "stdout",
     "output_type": "stream",
     "text": [
      "mse equal for degree 1\n",
      "r2 equal for degree 1\n",
      "mse equal for degree 2\n",
      "r2 equal for degree 2\n",
      "mse equal for degree 3\n",
      "r2 equal for degree 3\n",
      "mse equal for degree 4\n",
      "r2 equal for degree 4\n",
      "mse equal for degree 5\n",
      "r2 equal for degree 5\n"
     ]
    }
   ],
   "source": [
    "maxpower = 5\n",
    "limit = 10e-08\n",
    "\n",
    "\n",
    "# preallocating variables\n",
    "beta_ols       = {}\n",
    "pred_ols       = {}\n",
    "confidence_ols = {}\n",
    "confidence_ols_est_sigma = {}\n",
    "mse_ols        = np.empty([maxpower])\n",
    "r2_ols         = np.empty([maxpower])\n",
    "mse_ols_scikit = np.empty([maxpower])\n",
    "r2_ols_scikit  = np.empty([maxpower])\n",
    "\n",
    "# Running loop over model complexity (polynomial degree) \n",
    "for i in range(maxpower):\n",
    "    \n",
    "    # Creating design matrix, extracting beta and predicting \n",
    "    design      = fx.DesignDesign(x,y,i+1)  \n",
    "    beta_ols ['poly{0}'.format(i+1)], pred_ols ['poly{0}'.format(i+1)]\\\n",
    "                = fx.OridinaryLeastSquares(design,frank,design) \n",
    "    pred_ols_scikit = LinearRegression().fit(design, frank).predict(design)\n",
    "    #storing MSE and R2\n",
    "    mse_ols[i]        = fx.MSE(frank,pred_ols['poly'+str(i+1)])\n",
    "    r2_ols[i]         = fx.R2Score(frank,pred_ols['poly'+str(i+1)])\n",
    "    \n",
    "    \n",
    "    mse_ols_scikit[i] = mean_squared_error(np.ravel(frank),pred_ols_scikit)\n",
    "    r2_ols_scikit[i]  = r2_score(np.ravel(frank),pred_ols_scikit)\n",
    "    \n",
    "    if np.abs(mse_ols[i]-mse_ols_scikit[i]) < limit:\n",
    "        print('mse equal for degree', i+1)\n",
    "    else: \n",
    "        print('warning not equal for degree', i+1)\n",
    "    \n",
    "    if np.abs(r2_ols[i]-r2_ols_scikit[i]) < limit:\n",
    "        print('r2 equal for degree', i+1)\n",
    "    else: \n",
    "        print('warning not equal for degree', i+1)\n",
    "    "
   ]
  },
  {
   "cell_type": "code",
   "execution_count": 113,
   "metadata": {},
   "outputs": [
    {
     "name": "stdout",
     "output_type": "stream",
     "text": [
      "warning not equal for degree 1 0.021200746687526847\n",
      "warning not equal for degree 2 0.013586549501097556\n",
      "mse equal for degree 3\n",
      "mse equal for degree 4\n",
      "mse equal for degree 5\n",
      "mse equal for degree 6\n",
      "mse equal for degree 7\n",
      "mse equal for degree 8\n",
      "mse equal for degree 9\n",
      "mse equal for degree 10\n"
     ]
    }
   ],
   "source": [
    "maxpower = 10\n",
    "limit = 10e-03\n",
    "\n",
    "\n",
    "# preallocating variables\n",
    "beta_rid     = {}\n",
    "pred_rid      = {}\n",
    "\n",
    "\n",
    "mse_rid        = np.empty([maxpower])\n",
    "mse_rid_scikit = np.empty([maxpower])\n",
    "\n",
    "# Running loop over model complexity (polynomial degree) \n",
    "for i in range(maxpower):\n",
    "    \n",
    "    # Creating design matrix, extracting beta and predicting \n",
    "    design      = fx.DesignDesign(x,y,i+1)  \n",
    "    beta_rid , pred_rid \\\n",
    "                = fx.RidgeRegression(design,frank,design, _lambda=10e-04) \n",
    "    pred_rid_scikit = Ridge(alpha=10e-04).fit(design[:,1:], frank).predict(design[:,1:])\n",
    "    #storing MSE and R2\n",
    "    mse_rid[i]        = fx.MSE(frank,pred_rid)\n",
    "   \n",
    "    beta_scikit = Ridge(alpha=10e-04).fit(design[:,1:], frank).coef_\n",
    "    \n",
    "    \n",
    "    \n",
    "    \n",
    "    mse_rid_scikit[i] = mean_squared_error(np.ravel(frank),pred_ols_scikit)\n",
    "    \n",
    "    if np.abs(mse_rid[i]-mse_rid_scikit[i]) < limit:\n",
    "        print('mse equal for degree', i+1)\n",
    "    else: \n",
    "        print('warning not equal for degree', i+1,np.abs(mse_rid[i]-mse_rid_scikit[i]))\n",
    "    \n",
    "    "
   ]
  },
  {
   "cell_type": "code",
   "execution_count": 112,
   "metadata": {},
   "outputs": [
    {
     "name": "stdout",
     "output_type": "stream",
     "text": [
      "[  0.65064746   3.53426019   3.26426717 -12.01148164  -4.9207543\n",
      " -10.24898046   2.06464211   7.64074679   7.04378831   1.65059485\n",
      "  10.23994419  -0.75728036  10.26292158  -8.51294923   8.70093087\n",
      "   4.74623718  -1.52881624  -2.07923461  -6.44615054  -3.66818384\n",
      "   3.71768226  -3.04844242  -1.92162913  -2.0011581   -7.7939835\n",
      "  -3.26972183   2.52382318  -2.77309062  -6.57031477  -2.21506455\n",
      "   0.86559142  -2.17298437  -0.7197931    1.24033587   4.93732761\n",
      "  -5.32299435  -5.00291524  -1.7189311    3.03848249   1.55089297\n",
      "   3.39019131   3.56086      2.18540003   3.96802513  -3.72744455\n",
      "  -0.14144782  -0.59050569   3.78088342   1.36109667   2.36443783\n",
      "   3.39137399   2.9816983    0.22839578   0.67108925   0.11320944\n",
      "   5.76902142   0.47458618   2.90863562  -2.34061585  -4.00075785\n",
      "  -3.61932799  -1.64978216  -0.44301438  -3.28346609  -4.30444972\n",
      "   4.10416538]\n",
      "[  3.53399708   3.26400407 -12.01086327  -4.91988067 -10.24836209\n",
      "   2.06414255   7.6398103    7.04285182   1.65009529  10.23985442\n",
      "  -0.75723207  10.26297982  -8.51290094   8.7008411    4.74638699\n",
      "  -1.52852372  -2.07885908  -6.44577501  -3.66789132   3.71783208\n",
      "  -3.04831978  -1.92148987  -2.0010076   -7.79380911  -3.26957132\n",
      "   2.52396244  -2.77296798  -6.57030592  -2.21510872   0.86550845\n",
      "  -2.17307656  -0.7198853    1.2402529    4.93728345  -5.3229855\n",
      "  -5.0029835   -1.71905177   3.03832257   1.55071313   3.38999881\n",
      "   3.56068017   2.18524012   3.96790446  -3.72751281  -0.1415073\n",
      "  -0.59057783   3.78080132   1.36101041   2.36434111   3.39127727\n",
      "   2.98161205   0.22831368   0.67101712   0.11314996   5.76906256\n",
      "   0.47466371   2.90874027  -2.34048856  -4.00062422  -3.61919269\n",
      "  -1.64964853  -0.44288709  -3.28336145  -4.30437218   4.10420652]\n",
      "0.6506868684426915\n"
     ]
    }
   ],
   "source": [
    "print(beta_rid)\n",
    "print(beta_scikit)\n",
    "print(Ridge(alpha=10e-04).fit(design[:,1:], frank).intercept_)"
   ]
  },
  {
   "cell_type": "code",
   "execution_count": null,
   "metadata": {},
   "outputs": [],
   "source": []
  }
 ],
 "metadata": {
  "kernelspec": {
   "display_name": "Python 3",
   "language": "python",
   "name": "python3"
  },
  "language_info": {
   "codemirror_mode": {
    "name": "ipython",
    "version": 3
   },
   "file_extension": ".py",
   "mimetype": "text/x-python",
   "name": "python",
   "nbconvert_exporter": "python",
   "pygments_lexer": "ipython3",
   "version": "3.7.3"
  }
 },
 "nbformat": 4,
 "nbformat_minor": 2
}
